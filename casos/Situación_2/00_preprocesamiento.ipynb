{
 "cells": [
  {
   "cell_type": "code",
   "execution_count": 3,
   "id": "ac992fc3",
   "metadata": {},
   "outputs": [],
   "source": [
    "import requests\n",
    "import pandas as pd\n",
    "import numpy as np\n",
    "from io import BytesIO"
   ]
  },
  {
   "cell_type": "code",
   "execution_count": null,
   "id": "2600d219",
   "metadata": {},
   "outputs": [],
   "source": [
    "# Importar y escribir librería custom desde github\n",
    "analysis_functions_py_url = \"https://raw.githubusercontent.com/DCajiao/workshop003_Machine_learning_and_Data_streaming/refs/heads/main/src/utils/analysis_functions.py\"\n",
    "analysis_functions_py = requests.get(analysis_functions_py_url).text\n",
    "with open(\"analysis_functions.py\", \"w\") as f:\n",
    "    f.write(analysis_functions_py)\n",
    "\n",
    "import analysis_functions as af"
   ]
  },
  {
   "cell_type": "code",
   "execution_count": null,
   "id": "c69ae328",
   "metadata": {},
   "outputs": [],
   "source": [
    "DATA_GITHUB_URL = f'https://raw.githubusercontent.com/DCajiao/Aplicaciones-del-Analisis-Espacial/refs/heads/main/casos/Situación_2/data/AccidentesFatales'#_{año}.xlsx'\n",
    "\n",
    "df_2009 = pd.read_excel(BytesIO(requests.get(f'{DATA_GITHUB_URL}_2009.xlsx').content), engine='openpyxl')\n",
    "df_2010 = pd.read_excel(BytesIO(requests.get(f'{DATA_GITHUB_URL}_2010.xlsx').content), engine='openpyxl')"
   ]
  },
  {
   "cell_type": "code",
   "execution_count": 13,
   "id": "64e07677",
   "metadata": {},
   "outputs": [
    {
     "name": "stdout",
     "output_type": "stream",
     "text": [
      "Index(['MES FALLECIMIENTO', 'MES ACCIDENTE', 'BARRIO', 'COM', 'PROFESION',\n",
      "       'SEXO', 'EDAD', 'EDAD AGRUPADA', 'FECHA ACCIDENTE',\n",
      "       'FECHA FALLECIMIENTO', 'HORA FALLECIMIENTO', 'HORA ACCIDENTE',\n",
      "       'DIA SEMANA FALLECIMIENTO', 'DIA SEMANA ACCIDENTE', 'LUGAR INSP.',\n",
      "       'CONDICCION', 'VEHICULOS', 'Ciudad', 'coordenada X (metros)',\n",
      "       'coordenada Y (metros)', 'coordenada X (km)', 'coordenada Y (km)'],\n",
      "      dtype='object')\n",
      "Index(['MES FALLECIMIENTO', 'MES ACCIDENTE', 'BARRIO', 'COM', 'PROFESION',\n",
      "       'SEXO', 'EDAD', 'EDAD AGRUPADA', 'FECHA ACCIDENTE',\n",
      "       'FECHA FALLECIMIENTO', 'HORA FALLECIMIENTO', 'HORA ACCIDENTE',\n",
      "       'DIA SEMANA FALLECIMIENTO', 'DIA SEMANA ACCIDENTE', 'FECHA INSP.',\n",
      "       'LUGAR INSP.', 'CONDICCION', 'VEHICULOS', 'Ciudad',\n",
      "       'coordenada X (metros)', 'coordenada Y (metros)', 'coordenada X (km)',\n",
      "       'coordenada Y (km)'],\n",
      "      dtype='object')\n",
      "set()\n",
      "{'FECHA INSP.'}\n"
     ]
    }
   ],
   "source": [
    "print(df_2009.columns)\n",
    "print(df_2010.columns)\n",
    "\n",
    "# Tienen las mismas columnas?\n",
    "print(set(df_2009.columns) - set(df_2010.columns))\n",
    "print(set(df_2010.columns) - set(df_2009.columns))"
   ]
  }
 ],
 "metadata": {
  "kernelspec": {
   "display_name": "Python 3",
   "language": "python",
   "name": "python3"
  },
  "language_info": {
   "codemirror_mode": {
    "name": "ipython",
    "version": 3
   },
   "file_extension": ".py",
   "mimetype": "text/x-python",
   "name": "python",
   "nbconvert_exporter": "python",
   "pygments_lexer": "ipython3",
   "version": "3.12.1"
  }
 },
 "nbformat": 4,
 "nbformat_minor": 5
}
